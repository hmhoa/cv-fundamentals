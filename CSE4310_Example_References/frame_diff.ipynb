{
 "cells": [
  {
   "cell_type": "code",
   "execution_count": 2,
   "id": "eea36d47-837c-49fc-a6a3-6040dc88d118",
   "metadata": {},
   "outputs": [],
   "source": [
    "import numpy as np\n",
    "import matplotlib.pyplot as plt\n",
    "import skvideo.io\n",
    "from skimage.color import rgb2gray\n",
    "from skimage.measure import label, regionprops\n",
    "from skimage.morphology import dilation\n",
    "\n",
    "%matplotlib widget"
   ]
  },
  {
   "cell_type": "code",
   "execution_count": 3,
   "id": "415f1f03-0040-4d4b-8c7d-50d58704ee09",
   "metadata": {},
   "outputs": [],
   "source": [
    "def draw_bbox(ax, bbox):\n",
    "    minr, minc, maxr, maxc = bbox\n",
    "    bx = (minc, maxc, maxc, minc, minc)\n",
    "    by = (minr, minr, maxr, maxr, minr)\n",
    "    ax.plot(bx, by, '-b', linewidth=2.5)"
   ]
  },
  {
   "cell_type": "code",
   "execution_count": 4,
   "id": "bbe55a2b-cc64-4df8-94fa-ed529c843f6d",
   "metadata": {},
   "outputs": [],
   "source": [
    "frames = skvideo.io.vread(\"/home/alex/ajdillhoff@gmail.com/Teaching/CSE4310/Spring2022/assignments/assignment3_code/east_parking_reduced_size.mp4\")"
   ]
  },
  {
   "cell_type": "code",
   "execution_count": 39,
   "id": "ea7ace1f-3d5b-4725-af9f-382788767cce",
   "metadata": {},
   "outputs": [
    {
     "name": "stdout",
     "output_type": "stream",
     "text": [
      "[<skimage.measure._regionprops.RegionProperties object at 0x7fbb348b9b10>, <skimage.measure._regionprops.RegionProperties object at 0x7fbb348ba1d0>, <skimage.measure._regionprops.RegionProperties object at 0x7fbb348bbe80>, <skimage.measure._regionprops.RegionProperties object at 0x7fbb348ba4d0>, <skimage.measure._regionprops.RegionProperties object at 0x7fbb348bbfa0>, <skimage.measure._regionprops.RegionProperties object at 0x7fbb348baf50>, <skimage.measure._regionprops.RegionProperties object at 0x7fbb348bb070>]\n"
     ]
    },
    {
     "data": {
      "application/vnd.jupyter.widget-view+json": {
       "model_id": "916c47b23fe44216aee5892f86802ee8",
       "version_major": 2,
       "version_minor": 0
      },
      "text/plain": [
       "Canvas(toolbar=Toolbar(toolitems=[('Home', 'Reset original view', 'home', 'home'), ('Back', 'Back to previous …"
      ]
     },
     "metadata": {},
     "output_type": "display_data"
    }
   ],
   "source": [
    "# detect all the different objects\n",
    "\n",
    "idx = 400\n",
    "threshold = 0.05\n",
    "\n",
    "ppframe = rgb2gray(frames[idx-2]) # load in previous previous frame\n",
    "pframe = rgb2gray(frames[idx-1]) # load in previous frame\n",
    "cframe = rgb2gray(frames[idx]) # load in current frame\n",
    "diff1 = np.abs(cframe - pframe)\n",
    "diff2 = np.abs(pframe - ppframe)\n",
    "\n",
    "motion_frame = np.minimum(diff1, diff2) # anything moving is a nonzero pixel\n",
    "thresh_frame = motion_frame > threshold # filter out small pixel noise\n",
    "dilated_frame = dilation(thresh_frame, np.ones((9, 9))) # grow sparse pixels that aren't fully connected\n",
    "label_frame = label(dilated_frame) # give back a bunch of centroids of groups of objects\n",
    "regions = regionprops(label_frame) # gives bounding box for each label detected (region of blobs detected)\n",
    "\n",
    "print(regions)\n",
    "\n",
    "fig = plt.figure()\n",
    "ax = fig.add_subplot(111)\n",
    "ax.imshow(dilated_frame, cmap='gray')\n",
    "ax.set_axis_off()\n",
    "ax.margins(0, 0)\n",
    "plt.gca().xaxis.set_major_locator(plt.NullLocator())\n",
    "plt.gca().yaxis.set_major_locator(plt.NullLocator())\n",
    "\n",
    "# for r in regions:\n",
    "#     draw_bbox(ax, r.bbox)\n",
    "    \n",
    "plt.savefig(\"/home/alex/Downloads/filename.pdf\", bbox_inches = 'tight',\n",
    "    pad_inches = 0)"
   ]
  },
  {
   "cell_type": "code",
   "execution_count": null,
   "id": "f00b2258-7f0b-40df-9b41-f0a40d2abd01",
   "metadata": {},
   "outputs": [],
   "source": []
  }
 ],
 "metadata": {
  "kernelspec": {
   "display_name": "Python [conda env:cse4310] *",
   "language": "python",
   "name": "conda-env-cse4310-py"
  },
  "language_info": {
   "codemirror_mode": {
    "name": "ipython",
    "version": 3
   },
   "file_extension": ".py",
   "mimetype": "text/x-python",
   "name": "python",
   "nbconvert_exporter": "python",
   "pygments_lexer": "ipython3",
   "version": "3.10.2"
  }
 },
 "nbformat": 4,
 "nbformat_minor": 5
}
